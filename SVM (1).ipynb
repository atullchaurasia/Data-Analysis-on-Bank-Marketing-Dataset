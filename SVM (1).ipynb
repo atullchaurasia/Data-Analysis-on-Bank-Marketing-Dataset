{
 "cells": [
  {
   "cell_type": "code",
   "execution_count": 2,
   "id": "89e0db61-46b6-467a-854c-9975797a9245",
   "metadata": {
    "tags": []
   },
   "outputs": [],
   "source": [
    "import numpy as np # linear algebra\n",
    "import pandas as pd # data processing, CSV file I/O (e.g. pd.read_csv)\n",
    "import matplotlib.pyplot as plt # for data visualization purposes\n",
    "import seaborn as sns \n",
    "%matplotlib inline\n",
    "import os\n",
    "for dirname, _, filenames in os.walk('/kaggle/input'):\n",
    "    for filename in filenames:\n",
    "        print(os.path.join(dirname, filename))"
   ]
  },
  {
   "cell_type": "code",
   "execution_count": 3,
   "id": "cd7ab4ea-458b-4764-a179-cf69a7b23301",
   "metadata": {},
   "outputs": [
    {
     "name": "stdout",
     "output_type": "stream",
     "text": [
      "       age          job  marital            education  default housing loan  \\\n",
      "0       56    housemaid  married             basic.4y       no      no   no   \n",
      "1       57     services  married          high.school  unknown      no   no   \n",
      "2       37     services  married          high.school       no     yes   no   \n",
      "3       40       admin.  married             basic.6y       no      no   no   \n",
      "4       56     services  married          high.school       no      no  yes   \n",
      "...    ...          ...      ...                  ...      ...     ...  ...   \n",
      "41183   73      retired  married  professional.course       no     yes   no   \n",
      "41184   46  blue-collar  married  professional.course       no      no   no   \n",
      "41185   56      retired  married    university.degree       no     yes   no   \n",
      "41186   44   technician  married  professional.course       no      no   no   \n",
      "41187   74      retired  married  professional.course       no     yes   no   \n",
      "\n",
      "         contact month day_of_week  ...  campaign  pdays  previous  \\\n",
      "0      telephone   may         mon  ...         1    999         0   \n",
      "1      telephone   may         mon  ...         1    999         0   \n",
      "2      telephone   may         mon  ...         1    999         0   \n",
      "3      telephone   may         mon  ...         1    999         0   \n",
      "4      telephone   may         mon  ...         1    999         0   \n",
      "...          ...   ...         ...  ...       ...    ...       ...   \n",
      "41183   cellular   nov         fri  ...         1    999         0   \n",
      "41184   cellular   nov         fri  ...         1    999         0   \n",
      "41185   cellular   nov         fri  ...         2    999         0   \n",
      "41186   cellular   nov         fri  ...         1    999         0   \n",
      "41187   cellular   nov         fri  ...         3    999         1   \n",
      "\n",
      "          poutcome emp.var.rate  cons.price.idx  cons.conf.idx  euribor3m  \\\n",
      "0      nonexistent          1.1          93.994          -36.4      4.857   \n",
      "1      nonexistent          1.1          93.994          -36.4      4.857   \n",
      "2      nonexistent          1.1          93.994          -36.4      4.857   \n",
      "3      nonexistent          1.1          93.994          -36.4      4.857   \n",
      "4      nonexistent          1.1          93.994          -36.4      4.857   \n",
      "...            ...          ...             ...            ...        ...   \n",
      "41183  nonexistent         -1.1          94.767          -50.8      1.028   \n",
      "41184  nonexistent         -1.1          94.767          -50.8      1.028   \n",
      "41185  nonexistent         -1.1          94.767          -50.8      1.028   \n",
      "41186  nonexistent         -1.1          94.767          -50.8      1.028   \n",
      "41187      failure         -1.1          94.767          -50.8      1.028   \n",
      "\n",
      "       nr.employed    y  \n",
      "0           5191.0   no  \n",
      "1           5191.0   no  \n",
      "2           5191.0   no  \n",
      "3           5191.0   no  \n",
      "4           5191.0   no  \n",
      "...            ...  ...  \n",
      "41183       4963.6  yes  \n",
      "41184       4963.6   no  \n",
      "41185       4963.6   no  \n",
      "41186       4963.6  yes  \n",
      "41187       4963.6   no  \n",
      "\n",
      "[41188 rows x 21 columns]\n"
     ]
    }
   ],
   "source": [
    "df = pd.read_csv(\"D://bank-additional-full.csv\")\n",
    "print(df)"
   ]
  },
  {
   "cell_type": "code",
   "execution_count": 4,
   "id": "99df222e-ce47-4e4f-ba56-4f3664114383",
   "metadata": {},
   "outputs": [
    {
     "name": "stdout",
     "output_type": "stream",
     "text": [
      "<class 'pandas.core.frame.DataFrame'>\n",
      "RangeIndex: 41188 entries, 0 to 41187\n",
      "Data columns (total 21 columns):\n",
      " #   Column          Non-Null Count  Dtype  \n",
      "---  ------          --------------  -----  \n",
      " 0   age             41188 non-null  int64  \n",
      " 1   job             41188 non-null  object \n",
      " 2   marital         41188 non-null  object \n",
      " 3   education       41188 non-null  object \n",
      " 4   default         41188 non-null  object \n",
      " 5   housing         41188 non-null  object \n",
      " 6   loan            41188 non-null  object \n",
      " 7   contact         41188 non-null  object \n",
      " 8   month           41188 non-null  object \n",
      " 9   day_of_week     41188 non-null  object \n",
      " 10  duration        41188 non-null  int64  \n",
      " 11  campaign        41188 non-null  int64  \n",
      " 12  pdays           41188 non-null  int64  \n",
      " 13  previous        41188 non-null  int64  \n",
      " 14  poutcome        41188 non-null  object \n",
      " 15  emp.var.rate    41188 non-null  float64\n",
      " 16  cons.price.idx  41188 non-null  float64\n",
      " 17  cons.conf.idx   41188 non-null  float64\n",
      " 18  euribor3m       41188 non-null  float64\n",
      " 19  nr.employed     41188 non-null  float64\n",
      " 20  y               41188 non-null  object \n",
      "dtypes: float64(5), int64(5), object(11)\n",
      "memory usage: 6.6+ MB\n"
     ]
    }
   ],
   "source": [
    "df.info()"
   ]
  },
  {
   "cell_type": "code",
   "execution_count": 5,
   "id": "77e5c454-491f-4513-966b-9df8b7a99dac",
   "metadata": {},
   "outputs": [
    {
     "data": {
      "text/html": [
       "<div>\n",
       "<style scoped>\n",
       "    .dataframe tbody tr th:only-of-type {\n",
       "        vertical-align: middle;\n",
       "    }\n",
       "\n",
       "    .dataframe tbody tr th {\n",
       "        vertical-align: top;\n",
       "    }\n",
       "\n",
       "    .dataframe thead th {\n",
       "        text-align: right;\n",
       "    }\n",
       "</style>\n",
       "<table border=\"1\" class=\"dataframe\">\n",
       "  <thead>\n",
       "    <tr style=\"text-align: right;\">\n",
       "      <th></th>\n",
       "      <th>age</th>\n",
       "      <th>duration</th>\n",
       "      <th>campaign</th>\n",
       "      <th>pdays</th>\n",
       "      <th>previous</th>\n",
       "      <th>emp.var.rate</th>\n",
       "      <th>cons.price.idx</th>\n",
       "      <th>cons.conf.idx</th>\n",
       "      <th>euribor3m</th>\n",
       "      <th>nr.employed</th>\n",
       "    </tr>\n",
       "  </thead>\n",
       "  <tbody>\n",
       "    <tr>\n",
       "      <th>count</th>\n",
       "      <td>41188.00000</td>\n",
       "      <td>41188.000000</td>\n",
       "      <td>41188.000000</td>\n",
       "      <td>41188.000000</td>\n",
       "      <td>41188.000000</td>\n",
       "      <td>41188.000000</td>\n",
       "      <td>41188.000000</td>\n",
       "      <td>41188.000000</td>\n",
       "      <td>41188.000000</td>\n",
       "      <td>41188.000000</td>\n",
       "    </tr>\n",
       "    <tr>\n",
       "      <th>mean</th>\n",
       "      <td>40.02406</td>\n",
       "      <td>258.285010</td>\n",
       "      <td>2.567593</td>\n",
       "      <td>962.475454</td>\n",
       "      <td>0.172963</td>\n",
       "      <td>0.081886</td>\n",
       "      <td>93.575664</td>\n",
       "      <td>-40.502600</td>\n",
       "      <td>3.621291</td>\n",
       "      <td>5167.035911</td>\n",
       "    </tr>\n",
       "    <tr>\n",
       "      <th>std</th>\n",
       "      <td>10.42125</td>\n",
       "      <td>259.279249</td>\n",
       "      <td>2.770014</td>\n",
       "      <td>186.910907</td>\n",
       "      <td>0.494901</td>\n",
       "      <td>1.570960</td>\n",
       "      <td>0.578840</td>\n",
       "      <td>4.628198</td>\n",
       "      <td>1.734447</td>\n",
       "      <td>72.251528</td>\n",
       "    </tr>\n",
       "    <tr>\n",
       "      <th>min</th>\n",
       "      <td>17.00000</td>\n",
       "      <td>0.000000</td>\n",
       "      <td>1.000000</td>\n",
       "      <td>0.000000</td>\n",
       "      <td>0.000000</td>\n",
       "      <td>-3.400000</td>\n",
       "      <td>92.201000</td>\n",
       "      <td>-50.800000</td>\n",
       "      <td>0.634000</td>\n",
       "      <td>4963.600000</td>\n",
       "    </tr>\n",
       "    <tr>\n",
       "      <th>25%</th>\n",
       "      <td>32.00000</td>\n",
       "      <td>102.000000</td>\n",
       "      <td>1.000000</td>\n",
       "      <td>999.000000</td>\n",
       "      <td>0.000000</td>\n",
       "      <td>-1.800000</td>\n",
       "      <td>93.075000</td>\n",
       "      <td>-42.700000</td>\n",
       "      <td>1.344000</td>\n",
       "      <td>5099.100000</td>\n",
       "    </tr>\n",
       "    <tr>\n",
       "      <th>50%</th>\n",
       "      <td>38.00000</td>\n",
       "      <td>180.000000</td>\n",
       "      <td>2.000000</td>\n",
       "      <td>999.000000</td>\n",
       "      <td>0.000000</td>\n",
       "      <td>1.100000</td>\n",
       "      <td>93.749000</td>\n",
       "      <td>-41.800000</td>\n",
       "      <td>4.857000</td>\n",
       "      <td>5191.000000</td>\n",
       "    </tr>\n",
       "    <tr>\n",
       "      <th>75%</th>\n",
       "      <td>47.00000</td>\n",
       "      <td>319.000000</td>\n",
       "      <td>3.000000</td>\n",
       "      <td>999.000000</td>\n",
       "      <td>0.000000</td>\n",
       "      <td>1.400000</td>\n",
       "      <td>93.994000</td>\n",
       "      <td>-36.400000</td>\n",
       "      <td>4.961000</td>\n",
       "      <td>5228.100000</td>\n",
       "    </tr>\n",
       "    <tr>\n",
       "      <th>max</th>\n",
       "      <td>98.00000</td>\n",
       "      <td>4918.000000</td>\n",
       "      <td>56.000000</td>\n",
       "      <td>999.000000</td>\n",
       "      <td>7.000000</td>\n",
       "      <td>1.400000</td>\n",
       "      <td>94.767000</td>\n",
       "      <td>-26.900000</td>\n",
       "      <td>5.045000</td>\n",
       "      <td>5228.100000</td>\n",
       "    </tr>\n",
       "  </tbody>\n",
       "</table>\n",
       "</div>"
      ],
      "text/plain": [
       "               age      duration      campaign         pdays      previous  \\\n",
       "count  41188.00000  41188.000000  41188.000000  41188.000000  41188.000000   \n",
       "mean      40.02406    258.285010      2.567593    962.475454      0.172963   \n",
       "std       10.42125    259.279249      2.770014    186.910907      0.494901   \n",
       "min       17.00000      0.000000      1.000000      0.000000      0.000000   \n",
       "25%       32.00000    102.000000      1.000000    999.000000      0.000000   \n",
       "50%       38.00000    180.000000      2.000000    999.000000      0.000000   \n",
       "75%       47.00000    319.000000      3.000000    999.000000      0.000000   \n",
       "max       98.00000   4918.000000     56.000000    999.000000      7.000000   \n",
       "\n",
       "       emp.var.rate  cons.price.idx  cons.conf.idx     euribor3m   nr.employed  \n",
       "count  41188.000000    41188.000000   41188.000000  41188.000000  41188.000000  \n",
       "mean       0.081886       93.575664     -40.502600      3.621291   5167.035911  \n",
       "std        1.570960        0.578840       4.628198      1.734447     72.251528  \n",
       "min       -3.400000       92.201000     -50.800000      0.634000   4963.600000  \n",
       "25%       -1.800000       93.075000     -42.700000      1.344000   5099.100000  \n",
       "50%        1.100000       93.749000     -41.800000      4.857000   5191.000000  \n",
       "75%        1.400000       93.994000     -36.400000      4.961000   5228.100000  \n",
       "max        1.400000       94.767000     -26.900000      5.045000   5228.100000  "
      ]
     },
     "execution_count": 5,
     "metadata": {},
     "output_type": "execute_result"
    }
   ],
   "source": [
    "df.describe()"
   ]
  },
  {
   "cell_type": "code",
   "execution_count": 6,
   "id": "06ad7e36-b552-4e9c-b2db-30eb8c8f6d41",
   "metadata": {},
   "outputs": [
    {
     "name": "stdout",
     "output_type": "stream",
     "text": [
      "There are 11 categorical variables\n",
      "\n",
      "The categorical variables are :\n",
      "\n",
      " ['job', 'marital', 'education', 'default', 'housing', 'loan', 'contact', 'month', 'day_of_week', 'poutcome', 'y']\n"
     ]
    }
   ],
   "source": [
    "# checking for categorical values\n",
    "categorical = [var for var in df.columns if df[var].dtype=='O'] #categorical values means features which contains string values\n",
    "\n",
    "print('There are {} categorical variables\\n'.format(len(categorical)))\n",
    "\n",
    "print('The categorical variables are :\\n\\n', categorical)"
   ]
  },
  {
   "cell_type": "code",
   "execution_count": 7,
   "id": "fa5307d8-1adf-44d8-91f7-a652980622e4",
   "metadata": {},
   "outputs": [
    {
     "name": "stdout",
     "output_type": "stream",
     "text": [
      "There are 10 numerical variables\n",
      "\n",
      "The numerical variables are : ['age', 'duration', 'campaign', 'pdays', 'previous', 'emp.var.rate', 'cons.price.idx', 'cons.conf.idx', 'euribor3m', 'nr.employed']\n"
     ]
    }
   ],
   "source": [
    "# now explore numerical variables\n",
    "numerical = [var for var in df.columns if df[var].dtype!='O']\n",
    "\n",
    "print('There are {} numerical variables\\n'.format(len(numerical)))\n",
    "\n",
    "print('The numerical variables are :', numerical)"
   ]
  },
  {
   "cell_type": "code",
   "execution_count": 8,
   "id": "6ecfc750-3292-4d2e-8cf3-eca3e753161b",
   "metadata": {},
   "outputs": [],
   "source": [
    "def outlier_thresholds(dataframe, col_name, q1=0.25, q3=0.75):\n",
    "    quartile1 = dataframe[col_name].quantile(q1)\n",
    "    quartile3 = dataframe[col_name].quantile(q3)\n",
    "    interquantile_range = quartile3 - quartile1\n",
    "    up_limit = quartile3 + 1.5 * interquantile_range\n",
    "    low_limit = quartile1 - 1.5 * interquantile_range\n",
    "    return low_limit, up_limit"
   ]
  },
  {
   "cell_type": "code",
   "execution_count": 9,
   "id": "2b89586f-3c9d-405c-829c-1158ae936efc",
   "metadata": {},
   "outputs": [
    {
     "name": "stdout",
     "output_type": "stream",
     "text": [
      "age True\n",
      "duration True\n",
      "campaign True\n",
      "pdays True\n",
      "previous True\n",
      "emp.var.rate False\n",
      "cons.price.idx False\n",
      "cons.conf.idx True\n",
      "euribor3m False\n",
      "nr.employed False\n"
     ]
    }
   ],
   "source": [
    "def check_outlier(dataframe, col_name):\n",
    "    low_limit, up_limit = outlier_thresholds(dataframe, col_name)\n",
    "    if dataframe[(dataframe[col_name] > up_limit) | (dataframe[col_name] < low_limit)].any(axis=None):\n",
    "        return True\n",
    "    else:\n",
    "        return False\n",
    "\n",
    "for col in numerical:\n",
    "    print(col, check_outlier(df, col))"
   ]
  },
  {
   "cell_type": "code",
   "execution_count": 10,
   "id": "aaa0d9cd-a637-4ca3-b65f-18d8c8318cae",
   "metadata": {},
   "outputs": [
    {
     "name": "stderr",
     "output_type": "stream",
     "text": [
      "C:\\Users\\Lenovo\\anaconda3\\lib\\site-packages\\seaborn\\_decorators.py:36: FutureWarning: Pass the following variable as a keyword arg: x. From version 0.12, the only valid positional argument will be `data`, and passing other arguments without an explicit keyword will result in an error or misinterpretation.\n",
      "  warnings.warn(\n"
     ]
    },
    {
     "data": {
      "text/plain": [
       "<AxesSubplot:xlabel='age'>"
      ]
     },
     "execution_count": 10,
     "metadata": {},
     "output_type": "execute_result"
    },
    {
     "data": {
      "image/png": "[encoded data removed]",
      "text/plain": [
       "<Figure size 432x288 with 1 Axes>"
      ]
     },
     "metadata": {
      "needs_background": "light"
     },
     "output_type": "display_data"
    }
   ],
   "source": [
    "sns.boxplot(df[\"age\"])"
   ]
  },
  {
   "cell_type": "code",
   "execution_count": 11,
   "id": "b927322e-b5be-4239-9500-8c7454939ac4",
   "metadata": {},
   "outputs": [],
   "source": [
    "# Dropping the outlier data points\n",
    "def remove_outlier(dataframe, col_name):\n",
    "    low_limit, up_limit = outlier_thresholds(dataframe, col_name)\n",
    "    df_without_outliers = dataframe[~((dataframe[col_name] < low_limit) | (dataframe[col_name] > up_limit))]\n",
    "    return df_without_outliers\n",
    "\n",
    "# for col in numerical:\n",
    "#     print(col, remove_outlier(df, col).shape)"
   ]
  },
  {
   "cell_type": "code",
   "execution_count": 12,
   "id": "734d150c-959f-482c-b226-a71e19149b91",
   "metadata": {},
   "outputs": [
    {
     "data": {
      "text/plain": [
       "447"
      ]
     },
     "execution_count": 12,
     "metadata": {},
     "output_type": "execute_result"
    }
   ],
   "source": [
    "for col in [\"age\",\"duration\",\"campaign\",\"pdays\",\"previous\",\"cons.conf.idx\"]:\n",
    "    new_df = remove_outlier(df,col )\n",
    "\n",
    "df.shape[0] - new_df.shape[0]"
   ]
  },
  {
   "cell_type": "code",
   "execution_count": 13,
   "id": "77a2ef0a-764e-4716-a3a4-cf08eb830277",
   "metadata": {},
   "outputs": [],
   "source": [
    "def replace_with_thresholds(dataframe, variable):\n",
    "    low_limit, up_limit = outlier_thresholds(dataframe, variable)\n",
    "    dataframe.loc[(dataframe[variable] < low_limit), variable] = low_limit\n",
    "    dataframe.loc[(dataframe[variable] > up_limit), variable] = up_limit\n",
    "\n",
    "for col in [\"age\",\"duration\",\"campaign\",\"pdays\",\"previous\",\"cons.conf.idx\"]:\n",
    "    replace_with_thresholds(df,col)"
   ]
  },
  {
   "cell_type": "code",
   "execution_count": 14,
   "id": "5ad03e3f-09d4-40f7-9816-13e1b54e5d1d",
   "metadata": {},
   "outputs": [
    {
     "name": "stderr",
     "output_type": "stream",
     "text": [
      "C:\\Users\\Lenovo\\anaconda3\\lib\\site-packages\\seaborn\\_decorators.py:36: FutureWarning: Pass the following variable as a keyword arg: x. From version 0.12, the only valid positional argument will be `data`, and passing other arguments without an explicit keyword will result in an error or misinterpretation.\n",
      "  warnings.warn(\n"
     ]
    },
    {
     "data": {
      "text/plain": [
       "<AxesSubplot:xlabel='age'>"
      ]
     },
     "execution_count": 14,
     "metadata": {},
     "output_type": "execute_result"
    },
    {
     "data": {
      "image/png": "[encoded data removed]",
      "text/plain": [
       "<Figure size 432x288 with 1 Axes>"
      ]
     },
     "metadata": {
      "needs_background": "light"
     },
     "output_type": "display_data"
    }
   ],
   "source": [
    "# We can see that all the outlier data points have gone\n",
    "sns.boxplot(df[\"age\"])"
   ]
  },
  {
   "cell_type": "code",
   "execution_count": 15,
   "id": "5ddb227b-3ceb-4780-80de-da13b6fa2820",
   "metadata": {},
   "outputs": [
    {
     "data": {
      "text/plain": [
       "age               0\n",
       "job               0\n",
       "marital           0\n",
       "education         0\n",
       "default           0\n",
       "housing           0\n",
       "loan              0\n",
       "contact           0\n",
       "month             0\n",
       "day_of_week       0\n",
       "duration          0\n",
       "campaign          0\n",
       "pdays             0\n",
       "previous          0\n",
       "poutcome          0\n",
       "emp.var.rate      0\n",
       "cons.price.idx    0\n",
       "cons.conf.idx     0\n",
       "euribor3m         0\n",
       "nr.employed       0\n",
       "y                 0\n",
       "dtype: int64"
      ]
     },
     "execution_count": 15,
     "metadata": {},
     "output_type": "execute_result"
    }
   ],
   "source": [
    "df.isnull().sum()"
   ]
  },
  {
   "cell_type": "code",
   "execution_count": 16,
   "id": "1e7c6699-282b-4390-b566-38d5a8ff0f99",
   "metadata": {},
   "outputs": [
    {
     "name": "stdout",
     "output_type": "stream",
     "text": [
      "admin.           10422\n",
      "blue-collar       9254\n",
      "technician        6743\n",
      "services          3969\n",
      "management        2924\n",
      "retired           1720\n",
      "entrepreneur      1456\n",
      "self-employed     1421\n",
      "housemaid         1060\n",
      "unemployed        1014\n",
      "student            875\n",
      "unknown            330\n",
      "Name: job, dtype: int64\n",
      "married     24928\n",
      "single      11568\n",
      "divorced     4612\n",
      "unknown        80\n",
      "Name: marital, dtype: int64\n",
      "university.degree      12168\n",
      "high.school             9515\n",
      "basic.9y                6045\n",
      "professional.course     5243\n",
      "basic.4y                4176\n",
      "basic.6y                2292\n",
      "unknown                 1731\n",
      "illiterate                18\n",
      "Name: education, dtype: int64\n",
      "no         32588\n",
      "unknown     8597\n",
      "yes            3\n",
      "Name: default, dtype: int64\n",
      "yes        21576\n",
      "no         18622\n",
      "unknown      990\n",
      "Name: housing, dtype: int64\n",
      "no         33950\n",
      "yes         6248\n",
      "unknown      990\n",
      "Name: loan, dtype: int64\n",
      "cellular     26144\n",
      "telephone    15044\n",
      "Name: contact, dtype: int64\n",
      "may    13769\n",
      "jul     7174\n",
      "aug     6178\n",
      "jun     5318\n",
      "nov     4101\n",
      "apr     2632\n",
      "oct      718\n",
      "sep      570\n",
      "mar      546\n",
      "dec      182\n",
      "Name: month, dtype: int64\n",
      "thu    8623\n",
      "mon    8514\n",
      "wed    8134\n",
      "tue    8090\n",
      "fri    7827\n",
      "Name: day_of_week, dtype: int64\n",
      "nonexistent    35563\n",
      "failure         4252\n",
      "success         1373\n",
      "Name: poutcome, dtype: int64\n",
      "no     36548\n",
      "yes     4640\n",
      "Name: y, dtype: int64\n"
     ]
    }
   ],
   "source": [
    "#checking for the frequency in the categorical values\n",
    "for var in categorical: \n",
    "    \n",
    "    print(df[var].value_counts())"
   ]
  },
  {
   "cell_type": "code",
   "execution_count": 17,
   "id": "2a4a99be-86ea-42d3-ba33-e88b4f787f08",
   "metadata": {},
   "outputs": [],
   "source": [
    "#first of all replace unknown by null or NaN so that python can identify them\n",
    "for var in categorical:\n",
    "\n",
    "    df[var].replace('unknown', np.NaN, inplace=True)"
   ]
  },
  {
   "cell_type": "code",
   "execution_count": 18,
   "id": "61d44018-a3f8-4f7c-9861-4d1fae7eab9e",
   "metadata": {},
   "outputs": [
    {
     "data": {
      "text/plain": [
       "job             330\n",
       "marital          80\n",
       "education      1731\n",
       "default        8597\n",
       "housing         990\n",
       "loan            990\n",
       "contact           0\n",
       "month             0\n",
       "day_of_week       0\n",
       "poutcome          0\n",
       "y                 0\n",
       "dtype: int64"
      ]
     },
     "execution_count": 18,
     "metadata": {},
     "output_type": "execute_result"
    }
   ],
   "source": [
    "#now again check for null values in categorical data\n",
    "df[categorical].isnull().sum()"
   ]
  },
  {
   "cell_type": "code",
   "execution_count": 19,
   "id": "97671fed-5ab7-4379-9a26-aa29d820d349",
   "metadata": {},
   "outputs": [],
   "source": [
    " # impute missing categorical variables with most frequent value\n",
    "for col in [\"job\",\"marital\",\"education\",\"default\",\"housing\",\"loan\"]:\n",
    "    df[col].fillna(df[col].mode()[0], inplace=True)"
   ]
  },
  {
   "cell_type": "code",
   "execution_count": 20,
   "id": "85c3839f-29a9-4069-b15a-9f9c09e3db84",
   "metadata": {},
   "outputs": [
    {
     "data": {
      "text/plain": [
       "job            0\n",
       "marital        0\n",
       "education      0\n",
       "default        0\n",
       "housing        0\n",
       "loan           0\n",
       "contact        0\n",
       "month          0\n",
       "day_of_week    0\n",
       "poutcome       0\n",
       "y              0\n",
       "dtype: int64"
      ]
     },
     "execution_count": 20,
     "metadata": {},
     "output_type": "execute_result"
    }
   ],
   "source": [
    "df[categorical].isnull().sum()"
   ]
  },
  {
   "cell_type": "code",
   "execution_count": 21,
   "id": "2795a9f1-6fd1-497f-81b6-8dcb52c3e796",
   "metadata": {},
   "outputs": [
    {
     "name": "stdout",
     "output_type": "stream",
     "text": [
      "dependent =\n",
      " 0         no\n",
      "1         no\n",
      "2         no\n",
      "3         no\n",
      "4         no\n",
      "        ... \n",
      "41183    yes\n",
      "41184     no\n",
      "41185     no\n",
      "41186    yes\n",
      "41187     no\n",
      "Name: y, Length: 41188, dtype: object\n",
      "Independent =\n",
      "         age          job  marital            education default housing loan  \\\n",
      "0      56.0    housemaid  married             basic.4y      no      no   no   \n",
      "1      57.0     services  married          high.school      no      no   no   \n",
      "2      37.0     services  married          high.school      no     yes   no   \n",
      "3      40.0       admin.  married             basic.6y      no      no   no   \n",
      "4      56.0     services  married          high.school      no      no  yes   \n",
      "...     ...          ...      ...                  ...     ...     ...  ...   \n",
      "41183  69.5      retired  married  professional.course      no     yes   no   \n",
      "41184  46.0  blue-collar  married  professional.course      no      no   no   \n",
      "41185  56.0      retired  married    university.degree      no     yes   no   \n",
      "41186  44.0   technician  married  professional.course      no      no   no   \n",
      "41187  69.5      retired  married  professional.course      no     yes   no   \n",
      "\n",
      "         contact month day_of_week  duration  campaign  pdays  previous  \\\n",
      "0      telephone   may         mon     261.0       1.0  999.0       0.0   \n",
      "1      telephone   may         mon     149.0       1.0  999.0       0.0   \n",
      "2      telephone   may         mon     226.0       1.0  999.0       0.0   \n",
      "3      telephone   may         mon     151.0       1.0  999.0       0.0   \n",
      "4      telephone   may         mon     307.0       1.0  999.0       0.0   \n",
      "...          ...   ...         ...       ...       ...    ...       ...   \n",
      "41183   cellular   nov         fri     334.0       1.0  999.0       0.0   \n",
      "41184   cellular   nov         fri     383.0       1.0  999.0       0.0   \n",
      "41185   cellular   nov         fri     189.0       2.0  999.0       0.0   \n",
      "41186   cellular   nov         fri     442.0       1.0  999.0       0.0   \n",
      "41187   cellular   nov         fri     239.0       3.0  999.0       0.0   \n",
      "\n",
      "          poutcome  emp.var.rate  cons.price.idx  cons.conf.idx  euribor3m  \\\n",
      "0      nonexistent           1.1          93.994          -36.4      4.857   \n",
      "1      nonexistent           1.1          93.994          -36.4      4.857   \n",
      "2      nonexistent           1.1          93.994          -36.4      4.857   \n",
      "3      nonexistent           1.1          93.994          -36.4      4.857   \n",
      "4      nonexistent           1.1          93.994          -36.4      4.857   \n",
      "...            ...           ...             ...            ...        ...   \n",
      "41183  nonexistent          -1.1          94.767          -50.8      1.028   \n",
      "41184  nonexistent          -1.1          94.767          -50.8      1.028   \n",
      "41185  nonexistent          -1.1          94.767          -50.8      1.028   \n",
      "41186  nonexistent          -1.1          94.767          -50.8      1.028   \n",
      "41187      failure          -1.1          94.767          -50.8      1.028   \n",
      "\n",
      "       nr.employed  \n",
      "0           5191.0  \n",
      "1           5191.0  \n",
      "2           5191.0  \n",
      "3           5191.0  \n",
      "4           5191.0  \n",
      "...            ...  \n",
      "41183       4963.6  \n",
      "41184       4963.6  \n",
      "41185       4963.6  \n",
      "41186       4963.6  \n",
      "41187       4963.6  \n",
      "\n",
      "[41188 rows x 20 columns]\n"
     ]
    }
   ],
   "source": [
    "Y = df.iloc[:,-1 ]\n",
    "print(\"dependent =\\n\",Y)\n",
    "X = df.iloc[:,:20]\n",
    "print(\"Independent =\\n\",X)"
   ]
  },
  {
   "cell_type": "code",
   "execution_count": 22,
   "id": "43088497-e3b3-4b68-9fbe-e1f152aefb8e",
   "metadata": {},
   "outputs": [
    {
     "name": "stdout",
     "output_type": "stream",
     "text": [
      "(41188, 20)\n",
      "(41188,)\n"
     ]
    }
   ],
   "source": [
    "print(X.shape)\n",
    "print(Y.shape)"
   ]
  },
  {
   "cell_type": "code",
   "execution_count": 23,
   "id": "29b089ff-0944-46a1-939f-2fa534abdcdc",
   "metadata": {},
   "outputs": [
    {
     "name": "stdout",
     "output_type": "stream",
     "text": [
      "        age  job_1  job_2  job_3  job_4  job_5  job_6  job_7  job_8  job_9  \\\n",
      "0      56.0      1      0      0      0      0      0      0      0      0   \n",
      "1      57.0      0      1      0      0      0      0      0      0      0   \n",
      "2      37.0      0      1      0      0      0      0      0      0      0   \n",
      "3      40.0      0      0      1      0      0      0      0      0      0   \n",
      "4      56.0      0      1      0      0      0      0      0      0      0   \n",
      "...     ...    ...    ...    ...    ...    ...    ...    ...    ...    ...   \n",
      "41183  69.5      0      0      0      0      0      1      0      0      0   \n",
      "41184  46.0      0      0      0      1      0      0      0      0      0   \n",
      "41185  56.0      0      0      0      0      0      1      0      0      0   \n",
      "41186  44.0      0      0      0      0      1      0      0      0      0   \n",
      "41187  69.5      0      0      0      0      0      1      0      0      0   \n",
      "\n",
      "       ...  pdays  previous  poutcome_1  poutcome_2  poutcome_3  emp.var.rate  \\\n",
      "0      ...  999.0       0.0           1           0           0           1.1   \n",
      "1      ...  999.0       0.0           1           0           0           1.1   \n",
      "2      ...  999.0       0.0           1           0           0           1.1   \n",
      "3      ...  999.0       0.0           1           0           0           1.1   \n",
      "4      ...  999.0       0.0           1           0           0           1.1   \n",
      "...    ...    ...       ...         ...         ...         ...           ...   \n",
      "41183  ...  999.0       0.0           1           0           0          -1.1   \n",
      "41184  ...  999.0       0.0           1           0           0          -1.1   \n",
      "41185  ...  999.0       0.0           1           0           0          -1.1   \n",
      "41186  ...  999.0       0.0           1           0           0          -1.1   \n",
      "41187  ...  999.0       0.0           0           1           0          -1.1   \n",
      "\n",
      "       cons.price.idx  cons.conf.idx  euribor3m  nr.employed  \n",
      "0              93.994          -36.4      4.857       5191.0  \n",
      "1              93.994          -36.4      4.857       5191.0  \n",
      "2              93.994          -36.4      4.857       5191.0  \n",
      "3              93.994          -36.4      4.857       5191.0  \n",
      "4              93.994          -36.4      4.857       5191.0  \n",
      "...               ...            ...        ...          ...  \n",
      "41183          94.767          -50.8      1.028       4963.6  \n",
      "41184          94.767          -50.8      1.028       4963.6  \n",
      "41185          94.767          -50.8      1.028       4963.6  \n",
      "41186          94.767          -50.8      1.028       4963.6  \n",
      "41187          94.767          -50.8      1.028       4963.6  \n",
      "\n",
      "[41188 rows x 57 columns]\n"
     ]
    }
   ],
   "source": [
    "# encode remaining variables with one-hot encoding\n",
    "# import category encoders\n",
    "import category_encoders as ce\n",
    "\n",
    "encoder = ce.OneHotEncoder(cols=['job', 'marital', 'education', 'default', 'housing', 'loan', 'contact', 'month','day_of_week','poutcome'])\n",
    "\n",
    "X = encoder.fit_transform(X)\n",
    "print(X)"
   ]
  },
  {
   "cell_type": "code",
   "execution_count": 24,
   "id": "a1d6a8b9-5b0a-476e-9f0e-494f13ee2c27",
   "metadata": {},
   "outputs": [
    {
     "name": "stdout",
     "output_type": "stream",
     "text": [
      "no     36548\n",
      "yes     4640\n",
      "Name: y, dtype: int64\n"
     ]
    }
   ],
   "source": [
    "# frequency count of target variable\n",
    "count_class = pd.value_counts(df['y'])\n",
    "print(count_class)"
   ]
  },
  {
   "cell_type": "code",
   "execution_count": 25,
   "id": "822a7aef-a31f-4247-a0cb-a0f0cb3b038f",
   "metadata": {},
   "outputs": [
    {
     "data": {
      "image/png": "[encoded data removed]",
      "text/plain": [
       "<Figure size 432x288 with 1 Axes>"
      ]
     },
     "metadata": {
      "needs_background": "light"
     },
     "output_type": "display_data"
    }
   ],
   "source": [
    "count_class.plot(kind='bar')\n",
    "plt.xlabel = 'Class'\n",
    "plt.ylabel = 'Frequency'"
   ]
  },
  {
   "cell_type": "code",
   "execution_count": 26,
   "id": "f4510834-abfe-4ecc-9a1a-3f7de2bc2a60",
   "metadata": {},
   "outputs": [
    {
     "name": "stdout",
     "output_type": "stream",
     "text": [
      "(28831, 57) (12357, 57)\n",
      "(28831,) (12357,)\n"
     ]
    }
   ],
   "source": [
    "# split X and y into training and testing sets\n",
    "\n",
    "from sklearn.model_selection import train_test_split\n",
    "\n",
    "x_train, x_test, y_train, y_test = train_test_split(X, Y, test_size = 0.3, random_state = 42)\n",
    "print(x_train.shape, x_test.shape)\n",
    "print(y_train.shape, y_test.shape)"
   ]
  },
  {
   "cell_type": "code",
   "execution_count": 27,
   "id": "eff3f06a-df76-4aa2-a28e-6948aa44b7e2",
   "metadata": {},
   "outputs": [],
   "source": [
    "import imblearn\n",
    "from imblearn.over_sampling import SMOTE\n",
    "\n",
    "x_train_new, x_test_new, y_train_new,y_test_new = train_test_split(x_train, y_train, test_size = 0.25, random_state=12)"
   ]
  },
  {
   "cell_type": "code",
   "execution_count": 28,
   "id": "858b9ddc-5bbb-4ee2-96ab-65716d02874f",
   "metadata": {},
   "outputs": [
    {
     "name": "stdout",
     "output_type": "stream",
     "text": [
      "(21623, 57) (7208, 57)\n",
      "(21623,) (7208,)\n"
     ]
    }
   ],
   "source": [
    "print(x_train_new.shape, x_test_new.shape)\n",
    "print(y_train_new.shape, y_test_new.shape)"
   ]
  },
  {
   "cell_type": "code",
   "execution_count": 29,
   "id": "bf4b5946-70ae-4194-baf4-268cfd566cf7",
   "metadata": {},
   "outputs": [],
   "source": [
    "sm = SMOTE()\n",
    "x_train_res, y_train_res = sm.fit_resample(x_train_new, y_train_new)"
   ]
  },
  {
   "cell_type": "code",
   "execution_count": 30,
   "id": "19465971-2b9f-41f0-a875-a172e8898c6e",
   "metadata": {},
   "outputs": [
    {
     "data": {
      "text/plain": [
       "Counter({'no': 19157, 'yes': 19157})"
      ]
     },
     "execution_count": 30,
     "metadata": {},
     "output_type": "execute_result"
    }
   ],
   "source": [
    "from collections import Counter\n",
    "Counter(y_train_res)"
   ]
  },
  {
   "cell_type": "code",
   "execution_count": 31,
   "id": "0e843544-cc40-4248-b24f-c6a1a6078b7d",
   "metadata": {},
   "outputs": [],
   "source": [
    "x_test_res, y_test_res = sm.fit_resample(x_test_new, y_test_new)"
   ]
  },
  {
   "cell_type": "code",
   "execution_count": 32,
   "id": "ca2760fc-e766-45e1-9e3d-c6e4ce61bb2f",
   "metadata": {},
   "outputs": [
    {
     "data": {
      "text/plain": [
       "Counter({'no': 6423, 'yes': 6423})"
      ]
     },
     "execution_count": 32,
     "metadata": {},
     "output_type": "execute_result"
    }
   ],
   "source": [
    "Counter(y_test_res)"
   ]
  },
  {
   "cell_type": "code",
   "execution_count": 33,
   "id": "efbbe049-ee2f-4ba0-8400-ac05e44596cd",
   "metadata": {},
   "outputs": [
    {
     "data": {
      "text/plain": [
       "((32950, 57), (8238, 57))"
      ]
     },
     "execution_count": 33,
     "metadata": {},
     "output_type": "execute_result"
    }
   ],
   "source": [
    "# split X and y into training and testing sets\n",
    "\n",
    "from sklearn.model_selection import train_test_split\n",
    "\n",
    "X_train, X_test, y_train, y_test = train_test_split(X, Y, test_size = 0.2, random_state = 0)\n",
    "\n",
    "\n",
    "# check the shape of X_train and X_test\n",
    "X_train.shape, X_test.shape"
   ]
  },
  {
   "cell_type": "code",
   "execution_count": 34,
   "id": "d05b8848-83f5-4d35-9e86-a7eb58cb9174",
   "metadata": {},
   "outputs": [
    {
     "data": {
      "text/html": [
       "<div>\n",
       "<style scoped>\n",
       "    .dataframe tbody tr th:only-of-type {\n",
       "        vertical-align: middle;\n",
       "    }\n",
       "\n",
       "    .dataframe tbody tr th {\n",
       "        vertical-align: top;\n",
       "    }\n",
       "\n",
       "    .dataframe thead tr th {\n",
       "        text-align: left;\n",
       "    }\n",
       "</style>\n",
       "<table border=\"1\" class=\"dataframe\">\n",
       "  <thead>\n",
       "    <tr>\n",
       "      <th></th>\n",
       "      <th>age</th>\n",
       "      <th>job_1</th>\n",
       "      <th>job_2</th>\n",
       "      <th>job_3</th>\n",
       "      <th>job_4</th>\n",
       "      <th>job_5</th>\n",
       "      <th>job_6</th>\n",
       "      <th>job_7</th>\n",
       "      <th>job_8</th>\n",
       "      <th>job_9</th>\n",
       "      <th>...</th>\n",
       "      <th>pdays</th>\n",
       "      <th>previous</th>\n",
       "      <th>poutcome_1</th>\n",
       "      <th>poutcome_2</th>\n",
       "      <th>poutcome_3</th>\n",
       "      <th>emp.var.rate</th>\n",
       "      <th>cons.price.idx</th>\n",
       "      <th>cons.conf.idx</th>\n",
       "      <th>euribor3m</th>\n",
       "      <th>nr.employed</th>\n",
       "    </tr>\n",
       "  </thead>\n",
       "  <tbody>\n",
       "    <tr>\n",
       "      <th>count</th>\n",
       "      <td>3.295000e+04</td>\n",
       "      <td>3.295000e+04</td>\n",
       "      <td>3.295000e+04</td>\n",
       "      <td>3.295000e+04</td>\n",
       "      <td>3.295000e+04</td>\n",
       "      <td>3.295000e+04</td>\n",
       "      <td>3.295000e+04</td>\n",
       "      <td>3.295000e+04</td>\n",
       "      <td>3.295000e+04</td>\n",
       "      <td>3.295000e+04</td>\n",
       "      <td>...</td>\n",
       "      <td>32950.0</td>\n",
       "      <td>32950.0</td>\n",
       "      <td>3.295000e+04</td>\n",
       "      <td>3.295000e+04</td>\n",
       "      <td>3.295000e+04</td>\n",
       "      <td>3.295000e+04</td>\n",
       "      <td>3.295000e+04</td>\n",
       "      <td>3.295000e+04</td>\n",
       "      <td>3.295000e+04</td>\n",
       "      <td>3.295000e+04</td>\n",
       "    </tr>\n",
       "    <tr>\n",
       "      <th>mean</th>\n",
       "      <td>2.815755e-16</td>\n",
       "      <td>3.823356e-15</td>\n",
       "      <td>8.581738e-16</td>\n",
       "      <td>1.762205e-15</td>\n",
       "      <td>-9.021952e-16</td>\n",
       "      <td>6.096051e-16</td>\n",
       "      <td>-1.380503e-15</td>\n",
       "      <td>-1.797584e-17</td>\n",
       "      <td>5.035207e-16</td>\n",
       "      <td>9.848470e-16</td>\n",
       "      <td>...</td>\n",
       "      <td>0.0</td>\n",
       "      <td>0.0</td>\n",
       "      <td>-8.100517e-16</td>\n",
       "      <td>1.886971e-15</td>\n",
       "      <td>1.557463e-16</td>\n",
       "      <td>-3.309138e-16</td>\n",
       "      <td>-1.600716e-14</td>\n",
       "      <td>-3.434481e-16</td>\n",
       "      <td>2.722287e-16</td>\n",
       "      <td>-1.635578e-14</td>\n",
       "    </tr>\n",
       "    <tr>\n",
       "      <th>std</th>\n",
       "      <td>1.000015e+00</td>\n",
       "      <td>1.000015e+00</td>\n",
       "      <td>1.000015e+00</td>\n",
       "      <td>1.000015e+00</td>\n",
       "      <td>1.000015e+00</td>\n",
       "      <td>1.000015e+00</td>\n",
       "      <td>1.000015e+00</td>\n",
       "      <td>1.000015e+00</td>\n",
       "      <td>1.000015e+00</td>\n",
       "      <td>1.000015e+00</td>\n",
       "      <td>...</td>\n",
       "      <td>0.0</td>\n",
       "      <td>0.0</td>\n",
       "      <td>1.000015e+00</td>\n",
       "      <td>1.000015e+00</td>\n",
       "      <td>1.000015e+00</td>\n",
       "      <td>1.000015e+00</td>\n",
       "      <td>1.000015e+00</td>\n",
       "      <td>1.000015e+00</td>\n",
       "      <td>1.000015e+00</td>\n",
       "      <td>1.000015e+00</td>\n",
       "    </tr>\n",
       "    <tr>\n",
       "      <th>min</th>\n",
       "      <td>-2.256194e+00</td>\n",
       "      <td>-1.646806e-01</td>\n",
       "      <td>-3.266610e-01</td>\n",
       "      <td>-5.959751e-01</td>\n",
       "      <td>-5.372801e-01</td>\n",
       "      <td>-4.436583e-01</td>\n",
       "      <td>-2.081245e-01</td>\n",
       "      <td>-2.737436e-01</td>\n",
       "      <td>-1.581483e-01</td>\n",
       "      <td>-1.890505e-01</td>\n",
       "      <td>...</td>\n",
       "      <td>0.0</td>\n",
       "      <td>0.0</td>\n",
       "      <td>-2.524483e+00</td>\n",
       "      <td>-3.374769e-01</td>\n",
       "      <td>-1.858410e-01</td>\n",
       "      <td>-2.214472e+00</td>\n",
       "      <td>-2.375431e+00</td>\n",
       "      <td>-2.224939e+00</td>\n",
       "      <td>-1.722524e+00</td>\n",
       "      <td>-2.811715e+00</td>\n",
       "    </tr>\n",
       "    <tr>\n",
       "      <th>25%</th>\n",
       "      <td>-7.772068e-01</td>\n",
       "      <td>-1.646806e-01</td>\n",
       "      <td>-3.266610e-01</td>\n",
       "      <td>-5.959751e-01</td>\n",
       "      <td>-5.372801e-01</td>\n",
       "      <td>-4.436583e-01</td>\n",
       "      <td>-2.081245e-01</td>\n",
       "      <td>-2.737436e-01</td>\n",
       "      <td>-1.581483e-01</td>\n",
       "      <td>-1.890505e-01</td>\n",
       "      <td>...</td>\n",
       "      <td>0.0</td>\n",
       "      <td>0.0</td>\n",
       "      <td>3.961207e-01</td>\n",
       "      <td>-3.374769e-01</td>\n",
       "      <td>-1.858410e-01</td>\n",
       "      <td>-1.197044e+00</td>\n",
       "      <td>-8.658037e-01</td>\n",
       "      <td>-4.739871e-01</td>\n",
       "      <td>-1.313230e+00</td>\n",
       "      <td>-9.391048e-01</td>\n",
       "    </tr>\n",
       "    <tr>\n",
       "      <th>50%</th>\n",
       "      <td>-1.856118e-01</td>\n",
       "      <td>-1.646806e-01</td>\n",
       "      <td>-3.266610e-01</td>\n",
       "      <td>-5.959751e-01</td>\n",
       "      <td>-5.372801e-01</td>\n",
       "      <td>-4.436583e-01</td>\n",
       "      <td>-2.081245e-01</td>\n",
       "      <td>-2.737436e-01</td>\n",
       "      <td>-1.581483e-01</td>\n",
       "      <td>-1.890505e-01</td>\n",
       "      <td>...</td>\n",
       "      <td>0.0</td>\n",
       "      <td>0.0</td>\n",
       "      <td>3.961207e-01</td>\n",
       "      <td>-3.374769e-01</td>\n",
       "      <td>-1.858410e-01</td>\n",
       "      <td>6.470430e-01</td>\n",
       "      <td>2.983710e-01</td>\n",
       "      <td>-2.794369e-01</td>\n",
       "      <td>7.119080e-01</td>\n",
       "      <td>3.309532e-01</td>\n",
       "    </tr>\n",
       "    <tr>\n",
       "      <th>75%</th>\n",
       "      <td>7.017807e-01</td>\n",
       "      <td>-1.646806e-01</td>\n",
       "      <td>-3.266610e-01</td>\n",
       "      <td>1.677922e+00</td>\n",
       "      <td>-5.372801e-01</td>\n",
       "      <td>-4.436583e-01</td>\n",
       "      <td>-2.081245e-01</td>\n",
       "      <td>-2.737436e-01</td>\n",
       "      <td>-1.581483e-01</td>\n",
       "      <td>-1.890505e-01</td>\n",
       "      <td>...</td>\n",
       "      <td>0.0</td>\n",
       "      <td>0.0</td>\n",
       "      <td>3.961207e-01</td>\n",
       "      <td>-3.374769e-01</td>\n",
       "      <td>-1.858410e-01</td>\n",
       "      <td>8.378107e-01</td>\n",
       "      <td>7.215502e-01</td>\n",
       "      <td>8.878643e-01</td>\n",
       "      <td>7.718608e-01</td>\n",
       "      <td>8.436753e-01</td>\n",
       "    </tr>\n",
       "    <tr>\n",
       "      <th>max</th>\n",
       "      <td>2.920262e+00</td>\n",
       "      <td>6.072361e+00</td>\n",
       "      <td>3.061277e+00</td>\n",
       "      <td>1.677922e+00</td>\n",
       "      <td>1.861227e+00</td>\n",
       "      <td>2.253987e+00</td>\n",
       "      <td>4.804816e+00</td>\n",
       "      <td>3.653053e+00</td>\n",
       "      <td>6.323179e+00</td>\n",
       "      <td>5.289591e+00</td>\n",
       "      <td>...</td>\n",
       "      <td>0.0</td>\n",
       "      <td>0.0</td>\n",
       "      <td>3.961207e-01</td>\n",
       "      <td>2.963166e+00</td>\n",
       "      <td>5.380943e+00</td>\n",
       "      <td>8.378107e-01</td>\n",
       "      <td>2.056724e+00</td>\n",
       "      <td>2.930641e+00</td>\n",
       "      <td>8.202843e-01</td>\n",
       "      <td>8.436753e-01</td>\n",
       "    </tr>\n",
       "  </tbody>\n",
       "</table>\n",
       "<p>8 rows × 57 columns</p>\n",
       "</div>"
      ],
      "text/plain": [
       "                age         job_1         job_2         job_3         job_4  \\\n",
       "count  3.295000e+04  3.295000e+04  3.295000e+04  3.295000e+04  3.295000e+04   \n",
       "mean   2.815755e-16  3.823356e-15  8.581738e-16  1.762205e-15 -9.021952e-16   \n",
       "std    1.000015e+00  1.000015e+00  1.000015e+00  1.000015e+00  1.000015e+00   \n",
       "min   -2.256194e+00 -1.646806e-01 -3.266610e-01 -5.959751e-01 -5.372801e-01   \n",
       "25%   -7.772068e-01 -1.646806e-01 -3.266610e-01 -5.959751e-01 -5.372801e-01   \n",
       "50%   -1.856118e-01 -1.646806e-01 -3.266610e-01 -5.959751e-01 -5.372801e-01   \n",
       "75%    7.017807e-01 -1.646806e-01 -3.266610e-01  1.677922e+00 -5.372801e-01   \n",
       "max    2.920262e+00  6.072361e+00  3.061277e+00  1.677922e+00  1.861227e+00   \n",
       "\n",
       "              job_5         job_6         job_7         job_8         job_9  \\\n",
       "count  3.295000e+04  3.295000e+04  3.295000e+04  3.295000e+04  3.295000e+04   \n",
       "mean   6.096051e-16 -1.380503e-15 -1.797584e-17  5.035207e-16  9.848470e-16   \n",
       "std    1.000015e+00  1.000015e+00  1.000015e+00  1.000015e+00  1.000015e+00   \n",
       "min   -4.436583e-01 -2.081245e-01 -2.737436e-01 -1.581483e-01 -1.890505e-01   \n",
       "25%   -4.436583e-01 -2.081245e-01 -2.737436e-01 -1.581483e-01 -1.890505e-01   \n",
       "50%   -4.436583e-01 -2.081245e-01 -2.737436e-01 -1.581483e-01 -1.890505e-01   \n",
       "75%   -4.436583e-01 -2.081245e-01 -2.737436e-01 -1.581483e-01 -1.890505e-01   \n",
       "max    2.253987e+00  4.804816e+00  3.653053e+00  6.323179e+00  5.289591e+00   \n",
       "\n",
       "       ...    pdays previous    poutcome_1    poutcome_2    poutcome_3  \\\n",
       "count  ...  32950.0  32950.0  3.295000e+04  3.295000e+04  3.295000e+04   \n",
       "mean   ...      0.0      0.0 -8.100517e-16  1.886971e-15  1.557463e-16   \n",
       "std    ...      0.0      0.0  1.000015e+00  1.000015e+00  1.000015e+00   \n",
       "min    ...      0.0      0.0 -2.524483e+00 -3.374769e-01 -1.858410e-01   \n",
       "25%    ...      0.0      0.0  3.961207e-01 -3.374769e-01 -1.858410e-01   \n",
       "50%    ...      0.0      0.0  3.961207e-01 -3.374769e-01 -1.858410e-01   \n",
       "75%    ...      0.0      0.0  3.961207e-01 -3.374769e-01 -1.858410e-01   \n",
       "max    ...      0.0      0.0  3.961207e-01  2.963166e+00  5.380943e+00   \n",
       "\n",
       "       emp.var.rate cons.price.idx cons.conf.idx     euribor3m   nr.employed  \n",
       "count  3.295000e+04   3.295000e+04  3.295000e+04  3.295000e+04  3.295000e+04  \n",
       "mean  -3.309138e-16  -1.600716e-14 -3.434481e-16  2.722287e-16 -1.635578e-14  \n",
       "std    1.000015e+00   1.000015e+00  1.000015e+00  1.000015e+00  1.000015e+00  \n",
       "min   -2.214472e+00  -2.375431e+00 -2.224939e+00 -1.722524e+00 -2.811715e+00  \n",
       "25%   -1.197044e+00  -8.658037e-01 -4.739871e-01 -1.313230e+00 -9.391048e-01  \n",
       "50%    6.470430e-01   2.983710e-01 -2.794369e-01  7.119080e-01  3.309532e-01  \n",
       "75%    8.378107e-01   7.215502e-01  8.878643e-01  7.718608e-01  8.436753e-01  \n",
       "max    8.378107e-01   2.056724e+00  2.930641e+00  8.202843e-01  8.436753e-01  \n",
       "\n",
       "[8 rows x 57 columns]"
      ]
     },
     "execution_count": 34,
     "metadata": {},
     "output_type": "execute_result"
    }
   ],
   "source": [
    "#Feature Scaling\n",
    "cols = X_train.columns\n",
    "from sklearn.preprocessing import StandardScaler\n",
    "\n",
    "scaler = StandardScaler()\n",
    "\n",
    "X_train = scaler.fit_transform(X_train)\n",
    "\n",
    "X_test = scaler.transform(X_test)\n",
    "X_train = pd.DataFrame(X_train, columns=[cols])\n",
    "X_test = pd.DataFrame(X_test, columns=[cols])\n",
    "X_train.describe()"
   ]
  },
  {
   "cell_type": "code",
   "execution_count": 35,
   "id": "e76656cc-9d5e-44ef-bfb3-2bf0941948be",
   "metadata": {},
   "outputs": [
    {
     "name": "stdout",
     "output_type": "stream",
     "text": [
      "Model accuracy score with default hyperparameters: 0.9122\n"
     ]
    }
   ],
   "source": [
    "# import SVC classifier\n",
    "from sklearn.svm import SVC\n",
    "\n",
    "\n",
    "# import metrics to compute accuracy\n",
    "from sklearn.metrics import accuracy_score\n",
    "\n",
    "\n",
    "# instantiate classifier with default hyperparameters\n",
    "svc=SVC() \n",
    "\n",
    "\n",
    "# fit classifier to training set\n",
    "svc.fit(X_train,y_train)\n",
    "\n",
    "\n",
    "# make predictions on test set\n",
    "y_pred=svc.predict(X_test)\n",
    "\n",
    "\n",
    "# compute and print accuracy score\n",
    "print('Model accuracy score with default hyperparameters: {0:0.4f}'. format(accuracy_score(y_test, y_pred)))"
   ]
  },
  {
   "cell_type": "code",
   "execution_count": 36,
   "id": "55a13b10-7b48-438e-a4f2-030beb0d2c41",
   "metadata": {},
   "outputs": [
    {
     "name": "stdout",
     "output_type": "stream",
     "text": [
      "Model accuracy score with rbf kernel and C=100.0 : 0.8933\n"
     ]
    }
   ],
   "source": [
    "# instantiate classifier with rbf kernel and C=100\n",
    "svc=SVC(C=100.0) \n",
    "\n",
    "\n",
    "# fit classifier to training set\n",
    "svc.fit(X_train,y_train)\n",
    "\n",
    "\n",
    "# make predictions on test set\n",
    "y_pred=svc.predict(X_test)\n",
    "\n",
    "\n",
    "# compute and print accuracy score\n",
    "print('Model accuracy score with rbf kernel and C=100.0 : {0:0.4f}'. format(accuracy_score(y_test, y_pred)))"
   ]
  },
  {
   "cell_type": "code",
   "execution_count": 37,
   "id": "3e7399b8-7649-471e-a36c-dce5828a64da",
   "metadata": {},
   "outputs": [
    {
     "name": "stdout",
     "output_type": "stream",
     "text": [
      "Model accuracy score with rbf kernel and C=1000.0 : 0.8866\n"
     ]
    }
   ],
   "source": [
    "# instantiate classifier with rbf kernel and C=1000\n",
    "svc=SVC(C=1000.0) \n",
    "\n",
    "\n",
    "# fit classifier to training set\n",
    "svc.fit(X_train,y_train)\n",
    "\n",
    "\n",
    "# make predictions on test set\n",
    "y_pred=svc.predict(X_test)\n",
    "\n",
    "\n",
    "# compute and print accuracy score\n",
    "print('Model accuracy score with rbf kernel and C=1000.0 : {0:0.4f}'. format(accuracy_score(y_test, y_pred)))"
   ]
  },
  {
   "cell_type": "code",
   "execution_count": 38,
   "id": "a0bb58a6-5d0b-4789-955f-7ae6d1ca0cd0",
   "metadata": {},
   "outputs": [
    {
     "name": "stdout",
     "output_type": "stream",
     "text": [
      "Model accuracy score with linear kernel and C=1.0 : 0.9086\n"
     ]
    }
   ],
   "source": [
    "# instantiate classifier with linear kernel and C=1.0\n",
    "linear_svc=SVC(kernel='linear', C=1.0) \n",
    "\n",
    "\n",
    "# fit classifier to training set\n",
    "linear_svc.fit(X_train,y_train)\n",
    "\n",
    "\n",
    "# make predictions on test set\n",
    "y_pred_test=linear_svc.predict(X_test)\n",
    "\n",
    "\n",
    "# compute and print accuracy score\n",
    "print('Model accuracy score with linear kernel and C=1.0 : {0:0.4f}'. format(accuracy_score(y_test, y_pred_test)))"
   ]
  },
  {
   "cell_type": "code",
   "execution_count": 39,
   "id": "def9dfc5-499b-4d8d-a710-6ba5bbc5f35e",
   "metadata": {},
   "outputs": [
    {
     "data": {
      "text/plain": [
       "array(['no', 'no', 'yes', ..., 'no', 'no', 'no'], dtype=object)"
      ]
     },
     "execution_count": 39,
     "metadata": {},
     "output_type": "execute_result"
    }
   ],
   "source": [
    "#Compare the train-set and test-set accuracy\n",
    "\n",
    "y_pred_train = linear_svc.predict(X_train)\n",
    "y_pred_train"
   ]
  },
  {
   "cell_type": "code",
   "execution_count": 40,
   "id": "0b5df29e-5bac-413d-b660-f5f29f295cdb",
   "metadata": {},
   "outputs": [
    {
     "name": "stdout",
     "output_type": "stream",
     "text": [
      "Training set score: 0.9052\n",
      "Test set score: 0.9086\n"
     ]
    }
   ],
   "source": [
    "#Check for overfitting and underfitting\n",
    "# print the scores on training and test set\n",
    "\n",
    "print('Training set score: {:.4f}'.format(linear_svc.score(X_train, y_train)))\n",
    "\n",
    "print('Test set score: {:.4f}'.format(linear_svc.score(X_test, y_test)))"
   ]
  },
  {
   "cell_type": "code",
   "execution_count": 41,
   "id": "f0e19c5f-c7bc-4e8a-8a9c-8ba5c199f047",
   "metadata": {},
   "outputs": [
    {
     "data": {
      "text/plain": [
       "no     7319\n",
       "yes     919\n",
       "Name: y, dtype: int64"
      ]
     },
     "execution_count": 41,
     "metadata": {},
     "output_type": "execute_result"
    }
   ],
   "source": [
    "# check class distribution in test set\n",
    "y_test.value_counts()"
   ]
  },
  {
   "cell_type": "code",
   "execution_count": 42,
   "id": "f1a58f1b-ff57-4a87-ad16-8392586e4930",
   "metadata": {},
   "outputs": [
    {
     "name": "stdout",
     "output_type": "stream",
     "text": [
      "Model accuracy score with polynomial kernel and C=1.0 : 0.9090\n"
     ]
    }
   ],
   "source": [
    "#Run SVM with polynomial kernel\n",
    "#Run SVM with polynomial kernel and C=1.0\n",
    "# instantiate classifier with polynomial kernel and C=1.0\n",
    "poly_svc=SVC(kernel='poly', C=1.0) \n",
    "\n",
    "\n",
    "# fit classifier to training set\n",
    "poly_svc.fit(X_train,y_train)\n",
    "\n",
    "\n",
    "# make predictions on test set\n",
    "y_pred=poly_svc.predict(X_test)\n",
    "\n",
    "\n",
    "# compute and print accuracy score\n",
    "print('Model accuracy score with polynomial kernel and C=1.0 : {0:0.4f}'. format(accuracy_score(y_test, y_pred)))"
   ]
  },
  {
   "cell_type": "code",
   "execution_count": 43,
   "id": "3e68c206-a8d0-4de6-b197-4ddda3f48d99",
   "metadata": {},
   "outputs": [
    {
     "name": "stdout",
     "output_type": "stream",
     "text": [
      "Model accuracy score with polynomial kernel and C=1.0 : 0.8866\n"
     ]
    }
   ],
   "source": [
    "# instantiate classifier with polynomial kernel and C=100.0\n",
    "poly_svc100=SVC(kernel='poly', C=100.0) \n",
    "\n",
    "\n",
    "# fit classifier to training set\n",
    "poly_svc100.fit(X_train, y_train)\n",
    "\n",
    "\n",
    "# make predictions on test set\n",
    "y_pred=poly_svc100.predict(X_test)\n",
    "\n",
    "\n",
    "# compute and print accuracy score\n",
    "print('Model accuracy score with polynomial kernel and C=1.0 : {0:0.4f}'. format(accuracy_score(y_test, y_pred)))"
   ]
  },
  {
   "cell_type": "code",
   "execution_count": 44,
   "id": "ba804b7a-d44e-4d1c-9089-fe2a8fdc34dd",
   "metadata": {},
   "outputs": [
    {
     "name": "stdout",
     "output_type": "stream",
     "text": [
      "Confusion matrix\n",
      "\n",
      " [[7192  127]\n",
      " [ 626  293]]\n",
      "\n",
      "True Positives(TP) =  7192\n",
      "\n",
      "True Negatives(TN) =  293\n",
      "\n",
      "False Positives(FP) =  127\n",
      "\n",
      "False Negatives(FN) =  626\n"
     ]
    }
   ],
   "source": [
    "# Print the Confusion Matrix and slice it into four pieces\n",
    "\n",
    "from sklearn.metrics import confusion_matrix\n",
    "\n",
    "cm = confusion_matrix(y_test, y_pred_test)\n",
    "\n",
    "print('Confusion matrix\\n\\n', cm)\n",
    "\n",
    "print('\\nTrue Positives(TP) = ', cm[0,0])\n",
    "\n",
    "print('\\nTrue Negatives(TN) = ', cm[1,1])\n",
    "\n",
    "print('\\nFalse Positives(FP) = ', cm[0,1])\n",
    "\n",
    "print('\\nFalse Negatives(FN) = ', cm[1,0])"
   ]
  },
  {
   "cell_type": "code",
   "execution_count": 94,
   "id": "9f2931fd-30a8-40b7-ad6b-fe13afe58a7e",
   "metadata": {},
   "outputs": [
    {
     "data": {
      "text/plain": [
       "<AxesSubplot:>"
      ]
     },
     "execution_count": 94,
     "metadata": {},
     "output_type": "execute_result"
    },
    {
     "data": {
      "image/png": "[encoded data removed]",
      "text/plain": [
       "<Figure size 432x288 with 2 Axes>"
      ]
     },
     "metadata": {
      "needs_background": "light"
     },
     "output_type": "display_data"
    }
   ],
   "source": [
    "# visualize confusion matrix with seaborn heatmap\n",
    "\n",
    "cm_matrix = pd.DataFrame(data=cm, columns=['Actual Positive:1', 'Actual Negative:0'], \n",
    "                                 index=['Predict Positive:1', 'Predict Negative:0'])\n",
    "\n",
    "sns.heatmap(cm_matrix, annot=True, fmt='d', cmap='YlGnBu')"
   ]
  },
  {
   "cell_type": "code",
   "execution_count": 95,
   "id": "7fd6af48-05cb-43a3-8adf-2d22251b3b16",
   "metadata": {},
   "outputs": [
    {
     "name": "stdout",
     "output_type": "stream",
     "text": [
      "              precision    recall  f1-score   support\n",
      "\n",
      "          no       0.92      0.98      0.95      7319\n",
      "         yes       0.70      0.32      0.44       919\n",
      "\n",
      "    accuracy                           0.91      8238\n",
      "   macro avg       0.81      0.65      0.69      8238\n",
      "weighted avg       0.90      0.91      0.89      8238\n",
      "\n"
     ]
    }
   ],
   "source": [
    "from sklearn.metrics import classification_report\n",
    "\n",
    "print(classification_report(y_test, y_pred_test))"
   ]
  },
  {
   "cell_type": "code",
   "execution_count": 96,
   "id": "0ce882cf-91d8-4a76-94f7-025aac054d3e",
   "metadata": {},
   "outputs": [],
   "source": [
    "#Classification accuracy\n",
    "TP = cm[0,0]\n",
    "TN = cm[1,1]\n",
    "FP = cm[0,1]\n",
    "FN = cm[1,0]"
   ]
  },
  {
   "cell_type": "code",
   "execution_count": 97,
   "id": "eec4875d-92c9-424e-8cce-3e787a6c0d7e",
   "metadata": {},
   "outputs": [
    {
     "name": "stdout",
     "output_type": "stream",
     "text": [
      "Classification accuracy : 0.9086\n"
     ]
    }
   ],
   "source": [
    "#Classification accuracy\n",
    "# print classification accuracy\n",
    "\n",
    "classification_accuracy = (TP + TN) / float(TP + TN + FP + FN)\n",
    "\n",
    "print('Classification accuracy : {0:0.4f}'.format(classification_accuracy))"
   ]
  },
  {
   "cell_type": "code",
   "execution_count": 98,
   "id": "babafef9-f343-46e0-82eb-8091959c1b4d",
   "metadata": {},
   "outputs": [
    {
     "name": "stdout",
     "output_type": "stream",
     "text": [
      "Classification error : 0.0914\n"
     ]
    }
   ],
   "source": [
    "#Classification error\n",
    "# print classification error\n",
    "\n",
    "classification_error = (FP + FN) / float(TP + TN + FP + FN)\n",
    "\n",
    "print('Classification error : {0:0.4f}'.format(classification_error))"
   ]
  },
  {
   "cell_type": "code",
   "execution_count": 99,
   "id": "43ef7b18-a0a3-45f7-9edf-dcae9f38ae87",
   "metadata": {},
   "outputs": [
    {
     "name": "stdout",
     "output_type": "stream",
     "text": [
      "Precision : 0.9826\n"
     ]
    }
   ],
   "source": [
    "# print precision score\n",
    "\n",
    "precision = TP / float(TP + FP)\n",
    "\n",
    "\n",
    "print('Precision : {0:0.4f}'.format(precision))"
   ]
  },
  {
   "cell_type": "code",
   "execution_count": 100,
   "id": "26f82a09-e55a-4c7f-b38d-b9e1cca69e8b",
   "metadata": {},
   "outputs": [
    {
     "name": "stdout",
     "output_type": "stream",
     "text": [
      "Recall or Sensitivity : 0.9199\n"
     ]
    }
   ],
   "source": [
    "#Recall\n",
    "recall = TP / float(TP + FN)\n",
    "\n",
    "print('Recall or Sensitivity : {0:0.4f}'.format(recall))"
   ]
  },
  {
   "cell_type": "code",
   "execution_count": 101,
   "id": "958ac13d-55c3-49ab-a949-e35783349ff0",
   "metadata": {},
   "outputs": [
    {
     "name": "stdout",
     "output_type": "stream",
     "text": [
      "True Positive Rate : 0.9199\n"
     ]
    }
   ],
   "source": [
    "#True Positive Rate\n",
    "#True Positive Rate is synonymous with Recall.\n",
    "\n",
    "true_positive_rate = TP / float(TP + FN)\n",
    "\n",
    "\n",
    "print('True Positive Rate : {0:0.4f}'.format(true_positive_rate))"
   ]
  },
  {
   "cell_type": "code",
   "execution_count": 102,
   "id": "8fbcdb8e-0c2e-4ed9-bb8e-f023c1b43afc",
   "metadata": {},
   "outputs": [
    {
     "name": "stdout",
     "output_type": "stream",
     "text": [
      "False Positive Rate : 0.3024\n"
     ]
    }
   ],
   "source": [
    "#False Positive Rate\n",
    "false_positive_rate = FP / float(FP + TN)\n",
    "\n",
    "\n",
    "print('False Positive Rate : {0:0.4f}'.format(false_positive_rate))"
   ]
  },
  {
   "cell_type": "code",
   "execution_count": 103,
   "id": "d4035549-cdaf-4f27-95ec-4887f067e036",
   "metadata": {},
   "outputs": [
    {
     "name": "stdout",
     "output_type": "stream",
     "text": [
      "Specificity : 0.6976\n"
     ]
    }
   ],
   "source": [
    "#Specificity\n",
    "specificity = TN / (TN + FP)\n",
    "\n",
    "print('Specificity : {0:0.4f}'.format(specificity))"
   ]
  },
  {
   "cell_type": "code",
   "execution_count": null,
   "id": "744d30d9-7be2-44b2-aba4-c37c6973c5c4",
   "metadata": {},
   "outputs": [],
   "source": []
  },
  {
   "cell_type": "code",
   "execution_count": null,
   "id": "2bc64d43-0e4d-485d-9f6e-cc37d4b492e8",
   "metadata": {},
   "outputs": [],
   "source": []
  }
 ],
 "metadata": {
  "kernelspec": {
   "display_name": "Python 3 (ipykernel)",
   "language": "python",
   "name": "python3"
  },
  "language_info": {
   "codemirror_mode": {
    "name": "ipython",
    "version": 3
   },
   "file_extension": ".py",
   "mimetype": "text/x-python",
   "name": "python",
   "nbconvert_exporter": "python",
   "pygments_lexer": "ipython3",
   "version": "3.11.5"
  }
 },
 "nbformat": 4,
 "nbformat_minor": 5
}
